{
 "cells": [
  {
   "cell_type": "markdown",
   "metadata": {},
   "source": [
    "# Langchain using OpenAI, Gemini and HuggingFace"
   ]
  },
  {
   "cell_type": "code",
   "execution_count": null,
   "metadata": {},
   "outputs": [],
   "source": [
    "#pip install langchain langchain_google_genai huggingface_hub openai\n",
    "from langchain.llms import OpenAI                           #pip install langchain\n",
    "from langchain_google_genai import GoogleGenerativeAI       #pip install langchain_google_genai\n",
    "from langchain import HuggingFaceHub                        #pip install huggingface_hub\n",
    "import os\n",
    "\n",
    "# Change API Keys accordingly\n",
    "os.environ[\"OPEN_API_KEY\"] = \"put your openai api key here\"\n",
    "os.environ[\"GOOGLE_API_KEY\"] = \"put your google api key here\"\n",
    "os.environ[\"HUGGINGFACEHUB_API_TOKEN\"] = \"put your huggingface hub api token here\""
   ]
  },
  {
   "cell_type": "code",
   "execution_count": null,
   "metadata": {},
   "outputs": [],
   "source": [
    "llmOpenAI = OpenAI(openai_api_key=os.environ[\"OPEN_API_KEY\"],temperature=0.7)\n",
    "llmGemini = GoogleGenerativeAI(gemini_api_key=os.environ[\"GOOGLE_API_KEY\"],model=\"gemini-pro\", temperature=0.7)\n",
    "llmHGFace = HuggingFaceHub(repo_id=\"google/flan-t5-large\", model_kwargs={\"temperature\": 0.7})\n",
    "# temperature more to 1 more creative"
   ]
  },
  {
   "cell_type": "code",
   "execution_count": null,
   "metadata": {},
   "outputs": [],
   "source": [
    "# Using OpenAI LLM\n",
    "text=(\"Explain Introvert\")\n",
    "print(llmOpenAI(text))"
   ]
  },
  {
   "cell_type": "code",
   "execution_count": null,
   "metadata": {},
   "outputs": [],
   "source": [
    "# Using Gemini LLM\n",
    "text=(\"Explain Introvert\")\n",
    "print(llmGemini(text))"
   ]
  },
  {
   "cell_type": "code",
   "execution_count": null,
   "metadata": {},
   "outputs": [],
   "source": [
    "# Using HuggingFace LLM\n",
    "text=(\"Explain Introvert\")\n",
    "print(llmHGFace(text))"
   ]
  }
 ],
 "metadata": {
  "language_info": {
   "name": "python"
  }
 },
 "nbformat": 4,
 "nbformat_minor": 2
}
